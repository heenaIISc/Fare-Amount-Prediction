{
  "cells": [
    {
      "cell_type": "markdown",
      "metadata": {
        "id": "Cm1iYi7ZD7Yq"
      },
      "source": [
        "## Problem Statement"
      ]
    },
    {
      "cell_type": "markdown",
      "metadata": {
        "id": "wlU7vlOfD7uk"
      },
      "source": [
        " Predict the taxi fare amount in New York city using Dask-ML."
      ]
    },
    {
      "cell_type": "markdown",
      "metadata": {
        "id": "0joKJDwcO4P6"
      },
      "source": [
        "### Dataset\n",
        "\n",
        "The dataset is based on the 2016 NYC Yellow Cab trip record data made available in Big Query on Google Cloud Platform. Its variables are as follows:\n",
        "![Dataset](https://cdn.iisc.talentsprint.com/CDS/Images/NYC_Taxi_data_description.png)\n",
        "\n",
        "\n"
      ]
    },
    {
      "cell_type": "code",
      "execution_count": null,
      "metadata": {
        "id": "SbsLsOTejPIW"
      },
      "outputs": [],
      "source": [
        "#@title Install Dask dependencies and restart runtime\n",
        "!pip -qq install dask-ml\n",
        "!pip -qq install dask\n",
        "!pip -qq install dask[complete]\n",
        "!pip -qq install dask distributed\n",
        "!pip -qq install mimesis"
      ]
    },
    {
      "cell_type": "markdown",
      "metadata": {
        "id": "dKxO3msLjVB-"
      },
      "source": [
        "#### Importing Necessary Packages"
      ]
    },
    {
      "cell_type": "code",
      "execution_count": null,
      "metadata": {
        "id": "6tZDtdlmShI5"
      },
      "outputs": [],
      "source": [
        "import warnings\n",
        "warnings.filterwarnings('ignore')\n",
        "import dask\n",
        "import dask.dataframe as dd\n",
        "import dask.array as da\n",
        "from dask_ml.linear_model import LinearRegression\n",
        "from dask_ml.model_selection import train_test_split\n",
        "from dask_ml.metrics import mean_squared_error, r2_score\n",
        "from dask.distributed import Client\n",
        "import time as time\n",
        "import numpy as np\n",
        "import pandas as pd\n",
        "import seaborn as sns, matplotlib.pyplot as plt\n",
        "%matplotlib inline\n",
        "\n",
        "from dask.distributed import Client, progress\n",
        "# client = Client()"
      ]
    },
    {
      "cell_type": "code",
      "execution_count": null,
      "metadata": {
        "cellView": "form",
        "id": "anjQfD2Imqpg"
      },
      "outputs": [],
      "source": [
        "#@title Download the data\n",
        "!wget -qq https://cdn.iisc.talentsprint.com/CDS/MiniProjects/Dask_MP_dataset.csv"
      ]
    },
    {
      "cell_type": "code",
      "execution_count": null,
      "metadata": {
        "colab": {
          "base_uri": "https://localhost:8080/"
        },
        "id": "AFyPyYzkyS0I",
        "outputId": "eafa9b11-a5b2-4b6e-8924-5c571ea348da"
      },
      "outputs": [
        {
          "name": "stdout",
          "output_type": "stream",
          "text": [
            "CPU times: user 34.4 ms, sys: 12 ms, total: 46.4 ms\n",
            "Wall time: 164 ms\n"
          ]
        }
      ],
      "source": [
        "%%time\n",
        "ddf = dd.read_csv('/content/Dask_MP_dataset.csv', dtype={'passenger_count': 'int64'})"
      ]
    },
    {
      "cell_type": "markdown",
      "metadata": {
        "id": "ho9I-czijje-"
      },
      "source": [
        "#### Use pandas to read the dataset and compare the time taken"
      ]
    },
    {
      "cell_type": "code",
      "execution_count": null,
      "metadata": {
        "colab": {
          "base_uri": "https://localhost:8080/"
        },
        "id": "_GtHtAhLvJZB",
        "outputId": "ca621aeb-4f97-49d8-c5cd-26824de0e755"
      },
      "outputs": [
        {
          "name": "stdout",
          "output_type": "stream",
          "text": [
            "CPU times: user 4.67 s, sys: 927 ms, total: 5.59 s\n",
            "Wall time: 5.6 s\n"
          ]
        }
      ],
      "source": [
        "%%time\n",
        "df_pd = pd.read_csv('/content/Dask_MP_dataset.csv')"
      ]
    },
    {
      "cell_type": "code",
      "execution_count": null,
      "metadata": {
        "colab": {
          "base_uri": "https://localhost:8080/",
          "height": 241
        },
        "id": "vaXBh2aTZYM4",
        "outputId": "d01816e0-50b0-4f91-a0e4-650016c32b75"
      },
      "outputs": [
        {
          "name": "stdout",
          "output_type": "stream",
          "text": [
            "CPU times: user 1.62 s, sys: 313 ms, total: 1.94 s\n",
            "Wall time: 1.93 s\n"
          ]
        },
        {
          "data": {
            "text/html": [
              "\n",
              "  <div id=\"df-0ce4bfb5-986f-43b4-8c39-662b63577b60\">\n",
              "    <div class=\"colab-df-container\">\n",
              "      <div>\n",
              "<style scoped>\n",
              "    .dataframe tbody tr th:only-of-type {\n",
              "        vertical-align: middle;\n",
              "    }\n",
              "\n",
              "    .dataframe tbody tr th {\n",
              "        vertical-align: top;\n",
              "    }\n",
              "\n",
              "    .dataframe thead th {\n",
              "        text-align: right;\n",
              "    }\n",
              "</style>\n",
              "<table border=\"1\" class=\"dataframe\">\n",
              "  <thead>\n",
              "    <tr style=\"text-align: right;\">\n",
              "      <th></th>\n",
              "      <th>Unnamed: 0</th>\n",
              "      <th>key</th>\n",
              "      <th>fare_amount</th>\n",
              "      <th>pickup_datetime</th>\n",
              "      <th>pickup_longitude</th>\n",
              "      <th>pickup_latitude</th>\n",
              "      <th>dropoff_longitude</th>\n",
              "      <th>dropoff_latitude</th>\n",
              "      <th>passenger_count</th>\n",
              "    </tr>\n",
              "  </thead>\n",
              "  <tbody>\n",
              "    <tr>\n",
              "      <th>0</th>\n",
              "      <td>0</td>\n",
              "      <td>2009-06-15 17:26:21.0000001</td>\n",
              "      <td>4.5</td>\n",
              "      <td>2009-06-15 17:26:21 UTC</td>\n",
              "      <td>-73.844311</td>\n",
              "      <td>40.721319</td>\n",
              "      <td>-73.841610</td>\n",
              "      <td>40.712278</td>\n",
              "      <td>1</td>\n",
              "    </tr>\n",
              "    <tr>\n",
              "      <th>1</th>\n",
              "      <td>1</td>\n",
              "      <td>2010-01-05 16:52:16.0000002</td>\n",
              "      <td>16.9</td>\n",
              "      <td>2010-01-05 16:52:16 UTC</td>\n",
              "      <td>-74.016048</td>\n",
              "      <td>40.711303</td>\n",
              "      <td>-73.979268</td>\n",
              "      <td>40.782004</td>\n",
              "      <td>1</td>\n",
              "    </tr>\n",
              "    <tr>\n",
              "      <th>2</th>\n",
              "      <td>2</td>\n",
              "      <td>2011-08-18 00:35:00.00000049</td>\n",
              "      <td>5.7</td>\n",
              "      <td>2011-08-18 00:35:00 UTC</td>\n",
              "      <td>-73.982738</td>\n",
              "      <td>40.761270</td>\n",
              "      <td>-73.991242</td>\n",
              "      <td>40.750562</td>\n",
              "      <td>2</td>\n",
              "    </tr>\n",
              "    <tr>\n",
              "      <th>3</th>\n",
              "      <td>3</td>\n",
              "      <td>2012-04-21 04:30:42.0000001</td>\n",
              "      <td>7.7</td>\n",
              "      <td>2012-04-21 04:30:42 UTC</td>\n",
              "      <td>-73.987130</td>\n",
              "      <td>40.733143</td>\n",
              "      <td>-73.991567</td>\n",
              "      <td>40.758092</td>\n",
              "      <td>1</td>\n",
              "    </tr>\n",
              "    <tr>\n",
              "      <th>4</th>\n",
              "      <td>4</td>\n",
              "      <td>2010-03-09 07:51:00.000000135</td>\n",
              "      <td>5.3</td>\n",
              "      <td>2010-03-09 07:51:00 UTC</td>\n",
              "      <td>-73.968095</td>\n",
              "      <td>40.768008</td>\n",
              "      <td>-73.956655</td>\n",
              "      <td>40.783762</td>\n",
              "      <td>1</td>\n",
              "    </tr>\n",
              "  </tbody>\n",
              "</table>\n",
              "</div>\n",
              "      <button class=\"colab-df-convert\" onclick=\"convertToInteractive('df-0ce4bfb5-986f-43b4-8c39-662b63577b60')\"\n",
              "              title=\"Convert this dataframe to an interactive table.\"\n",
              "              style=\"display:none;\">\n",
              "        \n",
              "  <svg xmlns=\"http://www.w3.org/2000/svg\" height=\"24px\"viewBox=\"0 0 24 24\"\n",
              "       width=\"24px\">\n",
              "    <path d=\"M0 0h24v24H0V0z\" fill=\"none\"/>\n",
              "    <path d=\"M18.56 5.44l.94 2.06.94-2.06 2.06-.94-2.06-.94-.94-2.06-.94 2.06-2.06.94zm-11 1L8.5 8.5l.94-2.06 2.06-.94-2.06-.94L8.5 2.5l-.94 2.06-2.06.94zm10 10l.94 2.06.94-2.06 2.06-.94-2.06-.94-.94-2.06-.94 2.06-2.06.94z\"/><path d=\"M17.41 7.96l-1.37-1.37c-.4-.4-.92-.59-1.43-.59-.52 0-1.04.2-1.43.59L10.3 9.45l-7.72 7.72c-.78.78-.78 2.05 0 2.83L4 21.41c.39.39.9.59 1.41.59.51 0 1.02-.2 1.41-.59l7.78-7.78 2.81-2.81c.8-.78.8-2.07 0-2.86zM5.41 20L4 18.59l7.72-7.72 1.47 1.35L5.41 20z\"/>\n",
              "  </svg>\n",
              "      </button>\n",
              "      \n",
              "  <style>\n",
              "    .colab-df-container {\n",
              "      display:flex;\n",
              "      flex-wrap:wrap;\n",
              "      gap: 12px;\n",
              "    }\n",
              "\n",
              "    .colab-df-convert {\n",
              "      background-color: #E8F0FE;\n",
              "      border: none;\n",
              "      border-radius: 50%;\n",
              "      cursor: pointer;\n",
              "      display: none;\n",
              "      fill: #1967D2;\n",
              "      height: 32px;\n",
              "      padding: 0 0 0 0;\n",
              "      width: 32px;\n",
              "    }\n",
              "\n",
              "    .colab-df-convert:hover {\n",
              "      background-color: #E2EBFA;\n",
              "      box-shadow: 0px 1px 2px rgba(60, 64, 67, 0.3), 0px 1px 3px 1px rgba(60, 64, 67, 0.15);\n",
              "      fill: #174EA6;\n",
              "    }\n",
              "\n",
              "    [theme=dark] .colab-df-convert {\n",
              "      background-color: #3B4455;\n",
              "      fill: #D2E3FC;\n",
              "    }\n",
              "\n",
              "    [theme=dark] .colab-df-convert:hover {\n",
              "      background-color: #434B5C;\n",
              "      box-shadow: 0px 1px 3px 1px rgba(0, 0, 0, 0.15);\n",
              "      filter: drop-shadow(0px 1px 2px rgba(0, 0, 0, 0.3));\n",
              "      fill: #FFFFFF;\n",
              "    }\n",
              "  </style>\n",
              "\n",
              "      <script>\n",
              "        const buttonEl =\n",
              "          document.querySelector('#df-0ce4bfb5-986f-43b4-8c39-662b63577b60 button.colab-df-convert');\n",
              "        buttonEl.style.display =\n",
              "          google.colab.kernel.accessAllowed ? 'block' : 'none';\n",
              "\n",
              "        async function convertToInteractive(key) {\n",
              "          const element = document.querySelector('#df-0ce4bfb5-986f-43b4-8c39-662b63577b60');\n",
              "          const dataTable =\n",
              "            await google.colab.kernel.invokeFunction('convertToInteractive',\n",
              "                                                     [key], {});\n",
              "          if (!dataTable) return;\n",
              "\n",
              "          const docLinkHtml = 'Like what you see? Visit the ' +\n",
              "            '<a target=\"_blank\" href=https://colab.research.google.com/notebooks/data_table.ipynb>data table notebook</a>'\n",
              "            + ' to learn more about interactive tables.';\n",
              "          element.innerHTML = '';\n",
              "          dataTable['output_type'] = 'display_data';\n",
              "          await google.colab.output.renderOutput(dataTable, element);\n",
              "          const docLink = document.createElement('div');\n",
              "          docLink.innerHTML = docLinkHtml;\n",
              "          element.appendChild(docLink);\n",
              "        }\n",
              "      </script>\n",
              "    </div>\n",
              "  </div>\n",
              "  "
            ],
            "text/plain": [
              "   Unnamed: 0                            key  fare_amount  \\\n",
              "0           0    2009-06-15 17:26:21.0000001          4.5   \n",
              "1           1    2010-01-05 16:52:16.0000002         16.9   \n",
              "2           2   2011-08-18 00:35:00.00000049          5.7   \n",
              "3           3    2012-04-21 04:30:42.0000001          7.7   \n",
              "4           4  2010-03-09 07:51:00.000000135          5.3   \n",
              "\n",
              "           pickup_datetime  pickup_longitude  pickup_latitude  \\\n",
              "0  2009-06-15 17:26:21 UTC        -73.844311        40.721319   \n",
              "1  2010-01-05 16:52:16 UTC        -74.016048        40.711303   \n",
              "2  2011-08-18 00:35:00 UTC        -73.982738        40.761270   \n",
              "3  2012-04-21 04:30:42 UTC        -73.987130        40.733143   \n",
              "4  2010-03-09 07:51:00 UTC        -73.968095        40.768008   \n",
              "\n",
              "   dropoff_longitude  dropoff_latitude  passenger_count  \n",
              "0         -73.841610         40.712278                1  \n",
              "1         -73.979268         40.782004                1  \n",
              "2         -73.991242         40.750562                2  \n",
              "3         -73.991567         40.758092                1  \n",
              "4         -73.956655         40.783762                1  "
            ]
          },
          "execution_count": 23,
          "metadata": {},
          "output_type": "execute_result"
        }
      ],
      "source": [
        "%%time\n",
        "ddf.head()"
      ]
    },
    {
      "cell_type": "markdown",
      "metadata": {
        "id": "CFhWA9t11JhC"
      },
      "source": [
        "### Data Analysis"
      ]
    },
    {
      "cell_type": "markdown",
      "metadata": {
        "id": "CZX1ryIsjqMu"
      },
      "source": [
        "Drop those columns which are not useful in EDA as well as model implementation"
      ]
    },
    {
      "cell_type": "code",
      "execution_count": null,
      "metadata": {
        "id": "oY4VbXnyy7E0"
      },
      "outputs": [],
      "source": [
        "ddf = ddf.drop([\"key\", \"Unnamed: 0\"],axis=1)"
      ]
    },
    {
      "cell_type": "code",
      "execution_count": null,
      "metadata": {
        "colab": {
          "base_uri": "https://localhost:8080/"
        },
        "id": "5C8YkabI1N4l",
        "outputId": "fd2df5a6-dd80-40cb-a47d-53e9b923f40a"
      },
      "outputs": [
        {
          "name": "stdout",
          "output_type": "stream",
          "text": [
            "CPU times: user 9.76 ms, sys: 0 ns, total: 9.76 ms\n",
            "Wall time: 11.2 ms\n"
          ]
        }
      ],
      "source": [
        "# Drop duplicate rows\n",
        "%%time\n",
        "ddf = ddf.drop_duplicates()"
      ]
    },
    {
      "cell_type": "code",
      "execution_count": null,
      "metadata": {
        "id": "2uYv6q0FZtYO"
      },
      "outputs": [],
      "source": [
        "# ddf['pickup_datetime'] = dask.dataframe.to_datetime(ddf['pickup_datetime'])\n",
        "# ddf['year'] = ddf['pickup_datetime'].dt.year\n",
        "# ddf.head()"
      ]
    },
    {
      "cell_type": "code",
      "execution_count": null,
      "metadata": {
        "colab": {
          "base_uri": "https://localhost:8080/"
        },
        "id": "nZTAo8LafjU7",
        "outputId": "29efcfce-3e2b-464c-de9a-94158e0b5f77"
      },
      "outputs": [
        {
          "name": "stdout",
          "output_type": "stream",
          "text": [
            "CPU times: user 10.9 ms, sys: 995 µs, total: 11.9 ms\n",
            "Wall time: 12 ms\n"
          ]
        }
      ],
      "source": [
        "%%time\n",
        "ddf = ddf.dropna()"
      ]
    },
    {
      "cell_type": "code",
      "execution_count": null,
      "metadata": {
        "colab": {
          "base_uri": "https://localhost:8080/"
        },
        "id": "trDd9NJTF61J",
        "outputId": "03a74d7f-4f42-46b5-e31f-758c7ccfca24"
      },
      "outputs": [
        {
          "name": "stdout",
          "output_type": "stream",
          "text": [
            "CPU times: user 5.62 s, sys: 136 ms, total: 5.76 s\n",
            "Wall time: 7.22 s\n"
          ]
        }
      ],
      "source": [
        "# Drop duplicate rows in pandas dataframe\n",
        "%%time\n",
        "df_pd = df_pd.drop_duplicates()"
      ]
    },
    {
      "cell_type": "code",
      "execution_count": null,
      "metadata": {
        "colab": {
          "base_uri": "https://localhost:8080/"
        },
        "id": "MlAw0IP3F6oc",
        "outputId": "54110b4e-b3ed-4510-aaf0-818c2dc15bf0"
      },
      "outputs": [
        {
          "name": "stdout",
          "output_type": "stream",
          "text": [
            "CPU times: user 538 ms, sys: 10 ms, total: 548 ms\n",
            "Wall time: 751 ms\n"
          ]
        }
      ],
      "source": [
        "%%time\n",
        "df_pd = df_pd.dropna()"
      ]
    },
    {
      "cell_type": "code",
      "execution_count": null,
      "metadata": {
        "colab": {
          "base_uri": "https://localhost:8080/"
        },
        "id": "PLOBvChhMOzy",
        "outputId": "cb7157d8-6cb7-4d01-d07f-3a7b55ca9886"
      },
      "outputs": [
        {
          "name": "stdout",
          "output_type": "stream",
          "text": [
            "CPU times: user 13.4 s, sys: 1.02 s, total: 14.4 s\n",
            "Wall time: 18.2 s\n"
          ]
        },
        {
          "data": {
            "text/plain": [
              "passenger_count\n",
              "0        8.862578\n",
              "1       11.224834\n",
              "2       11.819826\n",
              "3       11.533967\n",
              "4       11.747775\n",
              "5       11.208924\n",
              "6       12.158254\n",
              "9      104.000000\n",
              "208      3.300000\n",
              "Name: fare_amount, dtype: float64"
            ]
          },
          "execution_count": 30,
          "metadata": {},
          "output_type": "execute_result"
        }
      ],
      "source": [
        "%%time\n",
        "ddf.groupby(\"passenger_count\").fare_amount.mean().compute()"
      ]
    },
    {
      "cell_type": "code",
      "execution_count": null,
      "metadata": {
        "colab": {
          "base_uri": "https://localhost:8080/"
        },
        "id": "9bY6cmDEMO-X",
        "outputId": "2165c317-86c3-4f3c-efc3-2ecc88951c66"
      },
      "outputs": [
        {
          "name": "stdout",
          "output_type": "stream",
          "text": [
            "CPU times: user 52.4 ms, sys: 2.02 ms, total: 54.4 ms\n",
            "Wall time: 111 ms\n"
          ]
        },
        {
          "data": {
            "text/plain": [
              "passenger_count\n",
              "0        8.862578\n",
              "1       11.224824\n",
              "2       11.819826\n",
              "3       11.533967\n",
              "4       11.747775\n",
              "5       11.208924\n",
              "6       12.158254\n",
              "9      104.000000\n",
              "208      3.300000\n",
              "Name: fare_amount, dtype: float64"
            ]
          },
          "execution_count": 31,
          "metadata": {},
          "output_type": "execute_result"
        }
      ],
      "source": [
        "%%time\n",
        "df_pd.groupby(\"passenger_count\").fare_amount.mean()"
      ]
    },
    {
      "cell_type": "code",
      "execution_count": null,
      "metadata": {
        "colab": {
          "base_uri": "https://localhost:8080/"
        },
        "id": "hui7_jEXNixT",
        "outputId": "84d14297-eb8b-463a-8210-23628eb711c4"
      },
      "outputs": [
        {
          "name": "stdout",
          "output_type": "stream",
          "text": [
            "CPU times: user 10.9 s, sys: 586 ms, total: 11.5 s\n",
            "Wall time: 10.2 s\n"
          ]
        },
        {
          "data": {
            "text/plain": [
              "fare_amount    11.347683\n",
              "dtype: float64"
            ]
          },
          "execution_count": 32,
          "metadata": {},
          "output_type": "execute_result"
        }
      ],
      "source": [
        "%%time\n",
        "ddf[[\"fare_amount\"]].mean().compute()"
      ]
    },
    {
      "cell_type": "code",
      "execution_count": null,
      "metadata": {
        "colab": {
          "base_uri": "https://localhost:8080/"
        },
        "id": "0GZOsyzWNsCy",
        "outputId": "2e93d009-bc5b-4aad-d8cf-b5a90cef8f1e"
      },
      "outputs": [
        {
          "name": "stdout",
          "output_type": "stream",
          "text": [
            "CPU times: user 14.2 ms, sys: 1.92 ms, total: 16.2 ms\n",
            "Wall time: 17.2 ms\n"
          ]
        },
        {
          "data": {
            "text/plain": [
              "fare_amount    11.347676\n",
              "dtype: float64"
            ]
          },
          "execution_count": 33,
          "metadata": {},
          "output_type": "execute_result"
        }
      ],
      "source": [
        "%%time\n",
        "df_pd[[\"fare_amount\"]].mean()"
      ]
    },
    {
      "cell_type": "markdown",
      "metadata": {
        "id": "P4KUGEAlju_J"
      },
      "source": [
        "Visualize the target variable, i.e., `fare_amount` to study the fare distribution, using a histogram density plot. Analyze the fare_amount distribution, try to visualize it for a range of [0, 60].\n"
      ]
    },
    {
      "cell_type": "code",
      "execution_count": null,
      "metadata": {
        "colab": {
          "base_uri": "https://localhost:8080/",
          "height": 281
        },
        "id": "WpvOEUW01WI_",
        "outputId": "4526bddb-1e97-4bbd-aae3-209d22f5c851"
      },
      "outputs": [
        {
          "data": {
            "image/png": "[encoded data removed]",
            "text/plain": [
              "<Figure size 432x288 with 1 Axes>"
            ]
          },
          "metadata": {
            "needs_background": "light"
          },
          "output_type": "display_data"
        }
      ],
      "source": [
        "#exploring data\n",
        "\n",
        "def plot_dist(series=ddf[\"fare_amount\"], title = \"Fare Distribution\"):\n",
        "  sns.histplot(series, kde=True, stat='density',discrete=True)\n",
        "  sns.despine()\n",
        "  plt.title(title)\n",
        "  sns.histplot(series, kde=True, stat='density',discrete=True)\n",
        "  sns.despine()\n",
        "  plt.title(title);\n",
        "  plt.show();\n",
        "  plt.show()\n",
        "plot_dist()"
      ]
    },
    {
      "cell_type": "code",
      "execution_count": null,
      "metadata": {
        "colab": {
          "base_uri": "https://localhost:8080/",
          "height": 281
        },
        "id": "gEtm-YkTM7iK",
        "outputId": "c26ecf85-6dec-4c17-a834-e8685e255135"
      },
      "outputs": [
        {
          "data": {
            "image/png": "[encoded data removed]",
            "text/plain": [
              "<Figure size 432x288 with 1 Axes>"
            ]
          },
          "metadata": {
            "needs_background": "light"
          },
          "output_type": "display_data"
        }
      ],
      "source": [
        "#dropping absurd values and plotting fare amount in the range [0, 60]\n",
        "ddf = ddf[ddf.fare_amount.between(0,60)]\n",
        "plot_dist(ddf.fare_amount)"
      ]
    },
    {
      "cell_type": "markdown",
      "metadata": {
        "id": "CvPfB3yKiVQG"
      },
      "source": [
        "#### Observe the number of workers and cores running in your machine\n",
        "\n",
        "Initialize a client and observe how many workers are working and the number of cores utilizing for the given data set."
      ]
    },
    {
      "cell_type": "code",
      "execution_count": null,
      "metadata": {
        "id": "O85yDn3kRErR"
      },
      "outputs": [],
      "source": [
        "# #Initializing a client\n",
        "# client = Client(processes=False)\n",
        "# client"
      ]
    },
    {
      "cell_type": "markdown",
      "metadata": {
        "id": "h6bDBe3KsrEy"
      },
      "source": [
        "From, above you can observe how many workers are working and the number of cores utilizing for the given data set."
      ]
    },
    {
      "cell_type": "markdown",
      "metadata": {
        "id": "tFmt8ZxPj9Oh"
      },
      "source": [
        "### EDA based on Time"
      ]
    },
    {
      "cell_type": "markdown",
      "metadata": {
        "id": "Q8cNhcLukCwi"
      },
      "source": [
        "Extract day of the week (dow), hour, month and year from `pickup_datetime`."
      ]
    },
    {
      "cell_type": "code",
      "execution_count": null,
      "metadata": {
        "id": "fZUu0gSEgKWm"
      },
      "outputs": [],
      "source": [
        "# pickup_datetime feature\n",
        "\n",
        "def extract_time_features(ddf):\n",
        "    timezone_name = 'America/New_York'\n",
        "    time_column = \"pickup_datetime\"\n",
        "    ddf.index = pd.to_datetime(ddf[time_column])\n",
        "    #ddf.index = ddf.index.tz_convert(timezone_name)\n",
        "    ddf[\"dow\"] = ddf.index.weekday\n",
        "    ddf[\"hour\"] = ddf.index.hour\n",
        "    ddf[\"month\"] = ddf.index.month\n",
        "    ddf[\"year\"] = ddf.index.year\n",
        "    return ddf.reset_index(drop=True)"
      ]
    },
    {
      "cell_type": "code",
      "execution_count": null,
      "metadata": {
        "id": "Q4qP_G40gaX6"
      },
      "outputs": [],
      "source": [
        "ddf = extract_time_features(ddf.compute())"
      ]
    },
    {
      "cell_type": "code",
      "execution_count": null,
      "metadata": {
        "colab": {
          "base_uri": "https://localhost:8080/",
          "height": 206
        },
        "id": "pAxBjYaCziQc",
        "outputId": "4c4fd37e-e7e2-4f19-8e4f-7e2f94c56252"
      },
      "outputs": [
        {
          "data": {
            "text/html": [
              "\n",
              "  <div id=\"df-cb9bea8c-8e1c-476f-81f9-d2f45780bde3\">\n",
              "    <div class=\"colab-df-container\">\n",
              "      <div>\n",
              "<style scoped>\n",
              "    .dataframe tbody tr th:only-of-type {\n",
              "        vertical-align: middle;\n",
              "    }\n",
              "\n",
              "    .dataframe tbody tr th {\n",
              "        vertical-align: top;\n",
              "    }\n",
              "\n",
              "    .dataframe thead th {\n",
              "        text-align: right;\n",
              "    }\n",
              "</style>\n",
              "<table border=\"1\" class=\"dataframe\">\n",
              "  <thead>\n",
              "    <tr style=\"text-align: right;\">\n",
              "      <th></th>\n",
              "      <th>fare_amount</th>\n",
              "      <th>pickup_datetime</th>\n",
              "      <th>pickup_longitude</th>\n",
              "      <th>pickup_latitude</th>\n",
              "      <th>dropoff_longitude</th>\n",
              "      <th>dropoff_latitude</th>\n",
              "      <th>passenger_count</th>\n",
              "      <th>dow</th>\n",
              "      <th>hour</th>\n",
              "      <th>month</th>\n",
              "      <th>year</th>\n",
              "    </tr>\n",
              "  </thead>\n",
              "  <tbody>\n",
              "    <tr>\n",
              "      <th>0</th>\n",
              "      <td>4.5</td>\n",
              "      <td>2009-06-15 17:26:21 UTC</td>\n",
              "      <td>-73.844311</td>\n",
              "      <td>40.721319</td>\n",
              "      <td>-73.841610</td>\n",
              "      <td>40.712278</td>\n",
              "      <td>1</td>\n",
              "      <td>0</td>\n",
              "      <td>17</td>\n",
              "      <td>6</td>\n",
              "      <td>2009</td>\n",
              "    </tr>\n",
              "    <tr>\n",
              "      <th>1</th>\n",
              "      <td>16.9</td>\n",
              "      <td>2010-01-05 16:52:16 UTC</td>\n",
              "      <td>-74.016048</td>\n",
              "      <td>40.711303</td>\n",
              "      <td>-73.979268</td>\n",
              "      <td>40.782004</td>\n",
              "      <td>1</td>\n",
              "      <td>1</td>\n",
              "      <td>16</td>\n",
              "      <td>1</td>\n",
              "      <td>2010</td>\n",
              "    </tr>\n",
              "    <tr>\n",
              "      <th>2</th>\n",
              "      <td>5.7</td>\n",
              "      <td>2011-08-18 00:35:00 UTC</td>\n",
              "      <td>-73.982738</td>\n",
              "      <td>40.761270</td>\n",
              "      <td>-73.991242</td>\n",
              "      <td>40.750562</td>\n",
              "      <td>2</td>\n",
              "      <td>3</td>\n",
              "      <td>0</td>\n",
              "      <td>8</td>\n",
              "      <td>2011</td>\n",
              "    </tr>\n",
              "    <tr>\n",
              "      <th>3</th>\n",
              "      <td>7.7</td>\n",
              "      <td>2012-04-21 04:30:42 UTC</td>\n",
              "      <td>-73.987130</td>\n",
              "      <td>40.733143</td>\n",
              "      <td>-73.991567</td>\n",
              "      <td>40.758092</td>\n",
              "      <td>1</td>\n",
              "      <td>5</td>\n",
              "      <td>4</td>\n",
              "      <td>4</td>\n",
              "      <td>2012</td>\n",
              "    </tr>\n",
              "    <tr>\n",
              "      <th>4</th>\n",
              "      <td>5.3</td>\n",
              "      <td>2010-03-09 07:51:00 UTC</td>\n",
              "      <td>-73.968095</td>\n",
              "      <td>40.768008</td>\n",
              "      <td>-73.956655</td>\n",
              "      <td>40.783762</td>\n",
              "      <td>1</td>\n",
              "      <td>1</td>\n",
              "      <td>7</td>\n",
              "      <td>3</td>\n",
              "      <td>2010</td>\n",
              "    </tr>\n",
              "  </tbody>\n",
              "</table>\n",
              "</div>\n",
              "      <button class=\"colab-df-convert\" onclick=\"convertToInteractive('df-cb9bea8c-8e1c-476f-81f9-d2f45780bde3')\"\n",
              "              title=\"Convert this dataframe to an interactive table.\"\n",
              "              style=\"display:none;\">\n",
              "        \n",
              "  <svg xmlns=\"http://www.w3.org/2000/svg\" height=\"24px\"viewBox=\"0 0 24 24\"\n",
              "       width=\"24px\">\n",
              "    <path d=\"M0 0h24v24H0V0z\" fill=\"none\"/>\n",
              "    <path d=\"M18.56 5.44l.94 2.06.94-2.06 2.06-.94-2.06-.94-.94-2.06-.94 2.06-2.06.94zm-11 1L8.5 8.5l.94-2.06 2.06-.94-2.06-.94L8.5 2.5l-.94 2.06-2.06.94zm10 10l.94 2.06.94-2.06 2.06-.94-2.06-.94-.94-2.06-.94 2.06-2.06.94z\"/><path d=\"M17.41 7.96l-1.37-1.37c-.4-.4-.92-.59-1.43-.59-.52 0-1.04.2-1.43.59L10.3 9.45l-7.72 7.72c-.78.78-.78 2.05 0 2.83L4 21.41c.39.39.9.59 1.41.59.51 0 1.02-.2 1.41-.59l7.78-7.78 2.81-2.81c.8-.78.8-2.07 0-2.86zM5.41 20L4 18.59l7.72-7.72 1.47 1.35L5.41 20z\"/>\n",
              "  </svg>\n",
              "      </button>\n",
              "      \n",
              "  <style>\n",
              "    .colab-df-container {\n",
              "      display:flex;\n",
              "      flex-wrap:wrap;\n",
              "      gap: 12px;\n",
              "    }\n",
              "\n",
              "    .colab-df-convert {\n",
              "      background-color: #E8F0FE;\n",
              "      border: none;\n",
              "      border-radius: 50%;\n",
              "      cursor: pointer;\n",
              "      display: none;\n",
              "      fill: #1967D2;\n",
              "      height: 32px;\n",
              "      padding: 0 0 0 0;\n",
              "      width: 32px;\n",
              "    }\n",
              "\n",
              "    .colab-df-convert:hover {\n",
              "      background-color: #E2EBFA;\n",
              "      box-shadow: 0px 1px 2px rgba(60, 64, 67, 0.3), 0px 1px 3px 1px rgba(60, 64, 67, 0.15);\n",
              "      fill: #174EA6;\n",
              "    }\n",
              "\n",
              "    [theme=dark] .colab-df-convert {\n",
              "      background-color: #3B4455;\n",
              "      fill: #D2E3FC;\n",
              "    }\n",
              "\n",
              "    [theme=dark] .colab-df-convert:hover {\n",
              "      background-color: #434B5C;\n",
              "      box-shadow: 0px 1px 3px 1px rgba(0, 0, 0, 0.15);\n",
              "      filter: drop-shadow(0px 1px 2px rgba(0, 0, 0, 0.3));\n",
              "      fill: #FFFFFF;\n",
              "    }\n",
              "  </style>\n",
              "\n",
              "      <script>\n",
              "        const buttonEl =\n",
              "          document.querySelector('#df-cb9bea8c-8e1c-476f-81f9-d2f45780bde3 button.colab-df-convert');\n",
              "        buttonEl.style.display =\n",
              "          google.colab.kernel.accessAllowed ? 'block' : 'none';\n",
              "\n",
              "        async function convertToInteractive(key) {\n",
              "          const element = document.querySelector('#df-cb9bea8c-8e1c-476f-81f9-d2f45780bde3');\n",
              "          const dataTable =\n",
              "            await google.colab.kernel.invokeFunction('convertToInteractive',\n",
              "                                                     [key], {});\n",
              "          if (!dataTable) return;\n",
              "\n",
              "          const docLinkHtml = 'Like what you see? Visit the ' +\n",
              "            '<a target=\"_blank\" href=https://colab.research.google.com/notebooks/data_table.ipynb>data table notebook</a>'\n",
              "            + ' to learn more about interactive tables.';\n",
              "          element.innerHTML = '';\n",
              "          dataTable['output_type'] = 'display_data';\n",
              "          await google.colab.output.renderOutput(dataTable, element);\n",
              "          const docLink = document.createElement('div');\n",
              "          docLink.innerHTML = docLinkHtml;\n",
              "          element.appendChild(docLink);\n",
              "        }\n",
              "      </script>\n",
              "    </div>\n",
              "  </div>\n",
              "  "
            ],
            "text/plain": [
              "   fare_amount          pickup_datetime  pickup_longitude  pickup_latitude  \\\n",
              "0          4.5  2009-06-15 17:26:21 UTC        -73.844311        40.721319   \n",
              "1         16.9  2010-01-05 16:52:16 UTC        -74.016048        40.711303   \n",
              "2          5.7  2011-08-18 00:35:00 UTC        -73.982738        40.761270   \n",
              "3          7.7  2012-04-21 04:30:42 UTC        -73.987130        40.733143   \n",
              "4          5.3  2010-03-09 07:51:00 UTC        -73.968095        40.768008   \n",
              "\n",
              "   dropoff_longitude  dropoff_latitude  passenger_count  dow  hour  month  \\\n",
              "0         -73.841610         40.712278                1    0    17      6   \n",
              "1         -73.979268         40.782004                1    1    16      1   \n",
              "2         -73.991242         40.750562                2    3     0      8   \n",
              "3         -73.991567         40.758092                1    5     4      4   \n",
              "4         -73.956655         40.783762                1    1     7      3   \n",
              "\n",
              "   year  \n",
              "0  2009  \n",
              "1  2010  \n",
              "2  2011  \n",
              "3  2012  \n",
              "4  2010  "
            ]
          },
          "execution_count": 39,
          "metadata": {},
          "output_type": "execute_result"
        }
      ],
      "source": [
        "ddf.head()"
      ]
    },
    {
      "cell_type": "markdown",
      "metadata": {
        "id": "iQlZJuvfkHmx"
      },
      "source": [
        "Plot the taxi trip by hour of the day"
      ]
    },
    {
      "cell_type": "code",
      "execution_count": null,
      "metadata": {
        "id": "dcDhog9ntzYn"
      },
      "outputs": [],
      "source": [
        "ddf = dd.from_pandas(ddf, npartitions=3)"
      ]
    },
    {
      "cell_type": "code",
      "execution_count": null,
      "metadata": {
        "colab": {
          "base_uri": "https://localhost:8080/"
        },
        "id": "r06GIu7AuZ8N",
        "outputId": "d9ecb342-6732-4d3b-a427-6e23766b2a96"
      },
      "outputs": [
        {
          "data": {
            "text/plain": [
              "dask.dataframe.core.DataFrame"
            ]
          },
          "execution_count": 41,
          "metadata": {},
          "output_type": "execute_result"
        }
      ],
      "source": [
        "type(ddf)"
      ]
    },
    {
      "cell_type": "code",
      "execution_count": null,
      "metadata": {
        "colab": {
          "base_uri": "https://localhost:8080/",
          "height": 385
        },
        "id": "P3GzEYwzgiwq",
        "outputId": "a21243fa-a9a9-449c-f146-673db6f7ee75"
      },
      "outputs": [
        {
          "data": {
            "image/png": "[encoded data removed]",
            "text/plain": [
              "<Figure size 1080x360 with 1 Axes>"
            ]
          },
          "metadata": {
            "needs_background": "light"
          },
          "output_type": "display_data"
        }
      ],
      "source": [
        "# taxi trip repartition by hour of the day\n",
        "\n",
        "sns.catplot(x=\"hour\", kind=\"count\", palette=\"icefire\", data=ddf.compute(), height=5, aspect=3);\n",
        "sns.despine()\n",
        "plt.title('Hour of Day');\n",
        "plt.show()"
      ]
    },
    {
      "cell_type": "markdown",
      "metadata": {
        "id": "NjSKhr4HkNL3"
      },
      "source": [
        "Plot the taxi trip repartition by day of the week (dow)"
      ]
    },
    {
      "cell_type": "code",
      "execution_count": null,
      "metadata": {
        "colab": {
          "base_uri": "https://localhost:8080/",
          "height": 385
        },
        "id": "Mf3fe9hnRFnL",
        "outputId": "675c08c7-c6be-45ce-f5f7-039d86f819a5"
      },
      "outputs": [
        {
          "data": {
            "image/png": "[encoded data removed]",
            "text/plain": [
              "<Figure size 1080x360 with 1 Axes>"
            ]
          },
          "metadata": {
            "needs_background": "light"
          },
          "output_type": "display_data"
        }
      ],
      "source": [
        "# taxi trip repartition by day of the week\n",
        "\n",
        "sns.catplot(x=\"dow\", kind=\"count\", palette=\"icefire\", data=ddf.compute(), height=5, aspect=3);\n",
        "sns.despine()\n",
        "plt.title('Day of Week');\n",
        "plt.show()"
      ]
    },
    {
      "cell_type": "markdown",
      "metadata": {
        "id": "ez8XDkvXkSr7"
      },
      "source": [
        "Draw a plot between the target variable and passenger count and analyze it."
      ]
    },
    {
      "cell_type": "code",
      "execution_count": null,
      "metadata": {
        "colab": {
          "base_uri": "https://localhost:8080/",
          "height": 369
        },
        "id": "ATLNkBHqYrG_",
        "outputId": "9d4bf317-9ab8-41bf-fb57-037144014522"
      },
      "outputs": [
        {
          "data": {
            "image/png": "[encoded data removed]",
            "text/plain": [
              "<Figure size 1080x360 with 1 Axes>"
            ]
          },
          "metadata": {
            "needs_background": "light"
          },
          "output_type": "display_data"
        }
      ],
      "source": [
        "#passenger count feature\n",
        "\n",
        "sns.catplot(x=\"passenger_count\", y=\"fare_amount\", palette=\"icefire\", data=ddf.compute(), kind=\"bar\", aspect=3)\n",
        "sns.despine()\n",
        "plt.show()"
      ]
    },
    {
      "cell_type": "markdown",
      "metadata": {
        "id": "-pGGhg1rkXl3"
      },
      "source": [
        "Draw a plot between the target variable and hour and analyze it."
      ]
    },
    {
      "cell_type": "code",
      "execution_count": null,
      "metadata": {
        "colab": {
          "base_uri": "https://localhost:8080/",
          "height": 369
        },
        "id": "-DVhX3JZYytp",
        "outputId": "b2e3f914-b454-4256-9ae9-7c9e8c1bbbed"
      },
      "outputs": [
        {
          "data": {
            "image/png": "[encoded data removed]",
            "text/plain": [
              "<Figure size 1080x360 with 1 Axes>"
            ]
          },
          "metadata": {
            "needs_background": "light"
          },
          "output_type": "display_data"
        }
      ],
      "source": [
        "#fare amount by hour\n",
        "\n",
        "sns.catplot(x=\"hour\", y=\"fare_amount\", palette=\"icefire\", data=ddf.compute(), kind=\"bar\", aspect=3)\n",
        "sns.despine()\n",
        "plt.show()"
      ]
    },
    {
      "cell_type": "markdown",
      "metadata": {
        "id": "lnhM0X0MkgOx"
      },
      "source": [
        "Compute the Haversine distance between samples\n",
        "\n",
        "* Convert the latitude and longitude co-rodinates to radians\n",
        "\n",
        "* Calculate the Haversine distance\n",
        "\n",
        "  **Hint:** [haversine_distances](https://scikit-learn.org/stable/modules/generated/sklearn.metrics.pairwise.haversine_distances.html)\n",
        "\n",
        "* Add the \"distance\" feature to the dataset and plot its distribution"
      ]
    },
    {
      "cell_type": "code",
      "execution_count": null,
      "metadata": {
        "id": "w4oLk2DtR-kP"
      },
      "outputs": [],
      "source": [
        "# Distance feature (given formula)\n",
        "\n",
        "def haversine_distance(ddf,\n",
        "                       start_lat=\"start_lat\",\n",
        "                       start_lon=\"start_lon\",\n",
        "                       end_lat=\"end_lat\",\n",
        "                       end_lon=\"end_lon\"):\n",
        "\n",
        "    # Calculate the great circle distance between two points\n",
        "    #on the earth (specified in decimal degrees).\n",
        "\n",
        "    # Vectorized version of the haversine distance for pandas df\n",
        "    #Computes distance in kms\n",
        "\n",
        "    lat_1_rad, lon_1_rad = np.radians(ddf[start_lat].astype(float)), np.radians(ddf[start_lon].astype(float))\n",
        "    lat_2_rad, lon_2_rad = np.radians(ddf[end_lat].astype(float)), np.radians(ddf[end_lon].astype(float))\n",
        "    dlon = lon_2_rad - lon_1_rad\n",
        "    dlat = lat_2_rad - lat_1_rad\n",
        "\n",
        "    a = np.sin(dlat / 2.0) ** 2 + np.cos(lat_1_rad) * np.cos(lat_2_rad) * np.sin(dlon / 2.0) ** 2\n",
        "    c = 2 * np.arcsin(np.sqrt(a))\n",
        "    haversine_distance = 6371 * c\n",
        "    return haversine_distance"
      ]
    },
    {
      "cell_type": "code",
      "execution_count": null,
      "metadata": {
        "colab": {
          "base_uri": "https://localhost:8080/"
        },
        "id": "0WGnk96MsrFI",
        "outputId": "ff999c59-4aea-47ca-85e6-c6b026f099ac"
      },
      "outputs": [
        {
          "name": "stdout",
          "output_type": "stream",
          "text": [
            "CPU times: user 25 ms, sys: 0 ns, total: 25 ms\n",
            "Wall time: 30.2 ms\n"
          ]
        }
      ],
      "source": [
        "%%time\n",
        "ddf[\"distance\"] = haversine_distance(ddf,\n",
        "                                     start_lat=\"pickup_latitude\", start_lon=\"pickup_longitude\",\n",
        "                                     end_lat=\"dropoff_latitude\", end_lon=\"dropoff_longitude\"\n",
        "                                     )"
      ]
    },
    {
      "cell_type": "code",
      "execution_count": null,
      "metadata": {
        "colab": {
          "base_uri": "https://localhost:8080/"
        },
        "id": "VaKyX4pQYeNF",
        "outputId": "d36ba2b1-7dab-4320-feb0-d5bcad7647bb"
      },
      "outputs": [
        {
          "data": {
            "text/plain": [
              "Dask Series Structure:\n",
              "npartitions=1\n",
              "    float64\n",
              "        ...\n",
              "Name: distance, dtype: float64\n",
              "Dask Name: describe-numeric, 130 tasks"
            ]
          },
          "execution_count": 48,
          "metadata": {},
          "output_type": "execute_result"
        }
      ],
      "source": [
        "ddf.distance.describe()"
      ]
    },
    {
      "cell_type": "code",
      "execution_count": null,
      "metadata": {
        "colab": {
          "base_uri": "https://localhost:8080/",
          "height": 281
        },
        "id": "6RHj-NePYi3y",
        "outputId": "118b6303-99aa-46b9-dced-4d1c685206bd"
      },
      "outputs": [
        {
          "data": {
            "image/png": "[encoded data removed]",
            "text/plain": [
              "<Figure size 432x288 with 1 Axes>"
            ]
          },
          "metadata": {
            "needs_background": "light"
          },
          "output_type": "display_data"
        }
      ],
      "source": [
        "%matplotlib inline\n",
        "plot_dist(series=ddf[ddf.distance<50].distance, title = \"Distance distribution\")"
      ]
    },
    {
      "cell_type": "markdown",
      "metadata": {
        "id": "GEm1VCEhkmxy"
      },
      "source": [
        "### Correlation between distance and fare amount"
      ]
    },
    {
      "cell_type": "code",
      "execution_count": null,
      "metadata": {
        "colab": {
          "base_uri": "https://localhost:8080/",
          "height": 279
        },
        "id": "e8C5jkzcZOxO",
        "outputId": "648ea4de-c01b-46bb-d726-ab9a6c292044"
      },
      "outputs": [
        {
          "data": {
            "image/png": "[encoded data removed]",
            "text/plain": [
              "<Figure size 432x288 with 1 Axes>"
            ]
          },
          "metadata": {
            "needs_background": "light"
          },
          "output_type": "display_data"
        }
      ],
      "source": [
        "# Correlation between fare_amount and distance\n",
        "\n",
        "sns.scatterplot(x=\"distance\", y=\"fare_amount\", palette=\"icefire\",data=ddf[ddf.distance < 80].compute().sample(10000))\n",
        "plt.show()"
      ]
    },
    {
      "cell_type": "markdown",
      "metadata": {
        "id": "bI_BrhbAksa4"
      },
      "source": [
        "### Preparing dataset for model implementation"
      ]
    },
    {
      "cell_type": "code",
      "execution_count": null,
      "metadata": {
        "id": "eBdsM-ue0PAU"
      },
      "outputs": [],
      "source": [
        "# Read the dataset to prepare for training\n",
        "\n",
        "data_train = ddf"
      ]
    },
    {
      "cell_type": "markdown",
      "metadata": {
        "id": "sxy-7gBSRWGP"
      },
      "source": [
        "### Removing outliers from training set Based on Coordinates"
      ]
    },
    {
      "cell_type": "markdown",
      "metadata": {
        "id": "6rJQ5ecOk_Q8"
      },
      "source": [
        "Exercise 8: Remove the outliers using the given latitude and longitude features from the dataset. We need to analyze the data of taxi within New York City."
      ]
    },
    {
      "cell_type": "code",
      "execution_count": null,
      "metadata": {
        "colab": {
          "base_uri": "https://localhost:8080/"
        },
        "id": "MsqHSsooRi4V",
        "outputId": "60572c12-d510-41d4-ee14-fe45d8df1d93"
      },
      "outputs": [
        {
          "name": "stdout",
          "output_type": "stream",
          "text": [
            "CPU times: user 7.85 ms, sys: 7 µs, total: 7.85 ms\n",
            "Wall time: 7.69 ms\n"
          ]
        }
      ],
      "source": [
        "%%time\n",
        "data_train = data_train[data_train[\"pickup_latitude\"].between(left = 40, right = 42 )]\n",
        "data_train = data_train[data_train[\"pickup_longitude\"].between(left = -74.3, right = -72.9 )]\n",
        "data_train = data_train[data_train[\"dropoff_latitude\"].between(left = 40, right = 42 )]\n",
        "data_train = data_train[data_train[\"dropoff_longitude\"].between(left = -74, right = -72.9 )]"
      ]
    },
    {
      "cell_type": "code",
      "execution_count": null,
      "metadata": {
        "colab": {
          "base_uri": "https://localhost:8080/"
        },
        "id": "jhjCIcP4z6HM",
        "outputId": "c2e2a029-3b80-4f60-9f2c-0baa6e7fea83"
      },
      "outputs": [
        {
          "name": "stdout",
          "output_type": "stream",
          "text": [
            "CPU times: user 27 ms, sys: 917 µs, total: 27.9 ms\n",
            "Wall time: 28.3 ms\n"
          ]
        }
      ],
      "source": [
        "%%time\n",
        "data_train[\"distance\"] = haversine_distance(data_train,\n",
        "                                      start_lat=\"pickup_latitude\", start_lon=\"pickup_longitude\",\n",
        "                                      end_lat=\"dropoff_latitude\", end_lon=\"dropoff_longitude\"\n",
        "                                     )"
      ]
    },
    {
      "cell_type": "code",
      "execution_count": null,
      "metadata": {
        "colab": {
          "base_uri": "https://localhost:8080/",
          "height": 206
        },
        "id": "uVKVLO_wz_yO",
        "outputId": "1247dd1b-235d-484a-cb9e-2d946b329823"
      },
      "outputs": [
        {
          "data": {
            "text/html": [
              "\n",
              "  <div id=\"df-0d57a445-dad3-48fa-89a8-627d30007eb4\">\n",
              "    <div class=\"colab-df-container\">\n",
              "      <div>\n",
              "<style scoped>\n",
              "    .dataframe tbody tr th:only-of-type {\n",
              "        vertical-align: middle;\n",
              "    }\n",
              "\n",
              "    .dataframe tbody tr th {\n",
              "        vertical-align: top;\n",
              "    }\n",
              "\n",
              "    .dataframe thead th {\n",
              "        text-align: right;\n",
              "    }\n",
              "</style>\n",
              "<table border=\"1\" class=\"dataframe\">\n",
              "  <thead>\n",
              "    <tr style=\"text-align: right;\">\n",
              "      <th></th>\n",
              "      <th>fare_amount</th>\n",
              "      <th>pickup_datetime</th>\n",
              "      <th>pickup_longitude</th>\n",
              "      <th>pickup_latitude</th>\n",
              "      <th>dropoff_longitude</th>\n",
              "      <th>dropoff_latitude</th>\n",
              "      <th>passenger_count</th>\n",
              "      <th>dow</th>\n",
              "      <th>hour</th>\n",
              "      <th>month</th>\n",
              "      <th>year</th>\n",
              "      <th>distance</th>\n",
              "    </tr>\n",
              "  </thead>\n",
              "  <tbody>\n",
              "    <tr>\n",
              "      <th>0</th>\n",
              "      <td>4.5</td>\n",
              "      <td>2009-06-15 17:26:21 UTC</td>\n",
              "      <td>-73.844311</td>\n",
              "      <td>40.721319</td>\n",
              "      <td>-73.841610</td>\n",
              "      <td>40.712278</td>\n",
              "      <td>1</td>\n",
              "      <td>0</td>\n",
              "      <td>17</td>\n",
              "      <td>6</td>\n",
              "      <td>2009</td>\n",
              "      <td>1.030764</td>\n",
              "    </tr>\n",
              "    <tr>\n",
              "      <th>1</th>\n",
              "      <td>16.9</td>\n",
              "      <td>2010-01-05 16:52:16 UTC</td>\n",
              "      <td>-74.016048</td>\n",
              "      <td>40.711303</td>\n",
              "      <td>-73.979268</td>\n",
              "      <td>40.782004</td>\n",
              "      <td>1</td>\n",
              "      <td>1</td>\n",
              "      <td>16</td>\n",
              "      <td>1</td>\n",
              "      <td>2010</td>\n",
              "      <td>8.450134</td>\n",
              "    </tr>\n",
              "    <tr>\n",
              "      <th>2</th>\n",
              "      <td>5.7</td>\n",
              "      <td>2011-08-18 00:35:00 UTC</td>\n",
              "      <td>-73.982738</td>\n",
              "      <td>40.761270</td>\n",
              "      <td>-73.991242</td>\n",
              "      <td>40.750562</td>\n",
              "      <td>2</td>\n",
              "      <td>3</td>\n",
              "      <td>0</td>\n",
              "      <td>8</td>\n",
              "      <td>2011</td>\n",
              "      <td>1.389525</td>\n",
              "    </tr>\n",
              "    <tr>\n",
              "      <th>3</th>\n",
              "      <td>7.7</td>\n",
              "      <td>2012-04-21 04:30:42 UTC</td>\n",
              "      <td>-73.987130</td>\n",
              "      <td>40.733143</td>\n",
              "      <td>-73.991567</td>\n",
              "      <td>40.758092</td>\n",
              "      <td>1</td>\n",
              "      <td>5</td>\n",
              "      <td>4</td>\n",
              "      <td>4</td>\n",
              "      <td>2012</td>\n",
              "      <td>2.799270</td>\n",
              "    </tr>\n",
              "    <tr>\n",
              "      <th>4</th>\n",
              "      <td>5.3</td>\n",
              "      <td>2010-03-09 07:51:00 UTC</td>\n",
              "      <td>-73.968095</td>\n",
              "      <td>40.768008</td>\n",
              "      <td>-73.956655</td>\n",
              "      <td>40.783762</td>\n",
              "      <td>1</td>\n",
              "      <td>1</td>\n",
              "      <td>7</td>\n",
              "      <td>3</td>\n",
              "      <td>2010</td>\n",
              "      <td>1.999157</td>\n",
              "    </tr>\n",
              "  </tbody>\n",
              "</table>\n",
              "</div>\n",
              "      <button class=\"colab-df-convert\" onclick=\"convertToInteractive('df-0d57a445-dad3-48fa-89a8-627d30007eb4')\"\n",
              "              title=\"Convert this dataframe to an interactive table.\"\n",
              "              style=\"display:none;\">\n",
              "        \n",
              "  <svg xmlns=\"http://www.w3.org/2000/svg\" height=\"24px\"viewBox=\"0 0 24 24\"\n",
              "       width=\"24px\">\n",
              "    <path d=\"M0 0h24v24H0V0z\" fill=\"none\"/>\n",
              "    <path d=\"M18.56 5.44l.94 2.06.94-2.06 2.06-.94-2.06-.94-.94-2.06-.94 2.06-2.06.94zm-11 1L8.5 8.5l.94-2.06 2.06-.94-2.06-.94L8.5 2.5l-.94 2.06-2.06.94zm10 10l.94 2.06.94-2.06 2.06-.94-2.06-.94-.94-2.06-.94 2.06-2.06.94z\"/><path d=\"M17.41 7.96l-1.37-1.37c-.4-.4-.92-.59-1.43-.59-.52 0-1.04.2-1.43.59L10.3 9.45l-7.72 7.72c-.78.78-.78 2.05 0 2.83L4 21.41c.39.39.9.59 1.41.59.51 0 1.02-.2 1.41-.59l7.78-7.78 2.81-2.81c.8-.78.8-2.07 0-2.86zM5.41 20L4 18.59l7.72-7.72 1.47 1.35L5.41 20z\"/>\n",
              "  </svg>\n",
              "      </button>\n",
              "      \n",
              "  <style>\n",
              "    .colab-df-container {\n",
              "      display:flex;\n",
              "      flex-wrap:wrap;\n",
              "      gap: 12px;\n",
              "    }\n",
              "\n",
              "    .colab-df-convert {\n",
              "      background-color: #E8F0FE;\n",
              "      border: none;\n",
              "      border-radius: 50%;\n",
              "      cursor: pointer;\n",
              "      display: none;\n",
              "      fill: #1967D2;\n",
              "      height: 32px;\n",
              "      padding: 0 0 0 0;\n",
              "      width: 32px;\n",
              "    }\n",
              "\n",
              "    .colab-df-convert:hover {\n",
              "      background-color: #E2EBFA;\n",
              "      box-shadow: 0px 1px 2px rgba(60, 64, 67, 0.3), 0px 1px 3px 1px rgba(60, 64, 67, 0.15);\n",
              "      fill: #174EA6;\n",
              "    }\n",
              "\n",
              "    [theme=dark] .colab-df-convert {\n",
              "      background-color: #3B4455;\n",
              "      fill: #D2E3FC;\n",
              "    }\n",
              "\n",
              "    [theme=dark] .colab-df-convert:hover {\n",
              "      background-color: #434B5C;\n",
              "      box-shadow: 0px 1px 3px 1px rgba(0, 0, 0, 0.15);\n",
              "      filter: drop-shadow(0px 1px 2px rgba(0, 0, 0, 0.3));\n",
              "      fill: #FFFFFF;\n",
              "    }\n",
              "  </style>\n",
              "\n",
              "      <script>\n",
              "        const buttonEl =\n",
              "          document.querySelector('#df-0d57a445-dad3-48fa-89a8-627d30007eb4 button.colab-df-convert');\n",
              "        buttonEl.style.display =\n",
              "          google.colab.kernel.accessAllowed ? 'block' : 'none';\n",
              "\n",
              "        async function convertToInteractive(key) {\n",
              "          const element = document.querySelector('#df-0d57a445-dad3-48fa-89a8-627d30007eb4');\n",
              "          const dataTable =\n",
              "            await google.colab.kernel.invokeFunction('convertToInteractive',\n",
              "                                                     [key], {});\n",
              "          if (!dataTable) return;\n",
              "\n",
              "          const docLinkHtml = 'Like what you see? Visit the ' +\n",
              "            '<a target=\"_blank\" href=https://colab.research.google.com/notebooks/data_table.ipynb>data table notebook</a>'\n",
              "            + ' to learn more about interactive tables.';\n",
              "          element.innerHTML = '';\n",
              "          dataTable['output_type'] = 'display_data';\n",
              "          await google.colab.output.renderOutput(dataTable, element);\n",
              "          const docLink = document.createElement('div');\n",
              "          docLink.innerHTML = docLinkHtml;\n",
              "          element.appendChild(docLink);\n",
              "        }\n",
              "      </script>\n",
              "    </div>\n",
              "  </div>\n",
              "  "
            ],
            "text/plain": [
              "   fare_amount          pickup_datetime  pickup_longitude  pickup_latitude  \\\n",
              "0          4.5  2009-06-15 17:26:21 UTC        -73.844311        40.721319   \n",
              "1         16.9  2010-01-05 16:52:16 UTC        -74.016048        40.711303   \n",
              "2          5.7  2011-08-18 00:35:00 UTC        -73.982738        40.761270   \n",
              "3          7.7  2012-04-21 04:30:42 UTC        -73.987130        40.733143   \n",
              "4          5.3  2010-03-09 07:51:00 UTC        -73.968095        40.768008   \n",
              "\n",
              "   dropoff_longitude  dropoff_latitude  passenger_count  dow  hour  month  \\\n",
              "0         -73.841610         40.712278                1    0    17      6   \n",
              "1         -73.979268         40.782004                1    1    16      1   \n",
              "2         -73.991242         40.750562                2    3     0      8   \n",
              "3         -73.991567         40.758092                1    5     4      4   \n",
              "4         -73.956655         40.783762                1    1     7      3   \n",
              "\n",
              "   year  distance  \n",
              "0  2009  1.030764  \n",
              "1  2010  8.450134  \n",
              "2  2011  1.389525  \n",
              "3  2012  2.799270  \n",
              "4  2010  1.999157  "
            ]
          },
          "execution_count": 54,
          "metadata": {},
          "output_type": "execute_result"
        }
      ],
      "source": [
        "data_train.head()"
      ]
    },
    {
      "cell_type": "markdown",
      "metadata": {
        "id": "Y0wKLJpOlGX2"
      },
      "source": [
        "Divide the data into train and test splits with X as feature variables and y as target variable"
      ]
    },
    {
      "cell_type": "code",
      "execution_count": null,
      "metadata": {
        "id": "3asw71jH1C7V"
      },
      "outputs": [],
      "source": [
        "X = data_train.drop([\"fare_amount\", \"pickup_datetime\"], axis=1)\n",
        "y = data_train[[\"fare_amount\"]]"
      ]
    },
    {
      "cell_type": "code",
      "execution_count": null,
      "metadata": {
        "id": "xhvvQ7jdg-4I"
      },
      "outputs": [],
      "source": [
        "X_train, X_test, y_train, y_test = train_test_split(X, y, test_size=0.3, random_state=0)"
      ]
    },
    {
      "cell_type": "code",
      "execution_count": null,
      "metadata": {
        "colab": {
          "base_uri": "https://localhost:8080/"
        },
        "id": "bAorNHLaNauK",
        "outputId": "e4ae5010-ce4e-4135-8056-7c8c50020d2f"
      },
      "outputs": [
        {
          "data": {
            "text/plain": [
              "dask.dataframe.core.DataFrame"
            ]
          },
          "execution_count": 57,
          "metadata": {},
          "output_type": "execute_result"
        }
      ],
      "source": [
        "type(X_train)"
      ]
    },
    {
      "cell_type": "code",
      "execution_count": null,
      "metadata": {
        "colab": {
          "base_uri": "https://localhost:8080/"
        },
        "id": "2rvbe9ZtUoMp",
        "outputId": "a7fcef4b-7283-47b3-c44d-ffe51fea2ac6"
      },
      "outputs": [
        {
          "data": {
            "text/plain": [
              "dask.dataframe.core.DataFrame"
            ]
          },
          "execution_count": 58,
          "metadata": {},
          "output_type": "execute_result"
        }
      ],
      "source": [
        "type(y_train)"
      ]
    },
    {
      "cell_type": "code",
      "execution_count": null,
      "metadata": {
        "id": "_5_q4A_oOPBD"
      },
      "outputs": [],
      "source": [
        "X_train = X_train.compute()"
      ]
    },
    {
      "cell_type": "code",
      "execution_count": null,
      "metadata": {
        "id": "be5xWyYcOS36"
      },
      "outputs": [],
      "source": [
        "y_train = y_train.compute()"
      ]
    },
    {
      "cell_type": "code",
      "execution_count": null,
      "metadata": {
        "id": "hb4qVD4GgqhJ"
      },
      "outputs": [],
      "source": [
        "#fit the model\n",
        "lr = LinearRegression()"
      ]
    },
    {
      "cell_type": "code",
      "execution_count": null,
      "metadata": {
        "colab": {
          "base_uri": "https://localhost:8080/"
        },
        "id": "4AQ8kJ-K0HCM",
        "outputId": "41799856-e811-4381-c530-6adee56149a4"
      },
      "outputs": [
        {
          "name": "stdout",
          "output_type": "stream",
          "text": [
            "CPU times: user 7.22 s, sys: 1.26 s, total: 8.48 s\n",
            "Wall time: 4.51 s\n"
          ]
        },
        {
          "data": {
            "text/plain": [
              "LinearRegression()"
            ]
          },
          "execution_count": 62,
          "metadata": {},
          "output_type": "execute_result"
        }
      ],
      "source": [
        "%%time\n",
        "lr.fit(X_train.values, y_train.values)"
      ]
    },
    {
      "cell_type": "markdown",
      "metadata": {
        "id": "YZr9OMdElQcb"
      },
      "source": [
        "Predict the test data and calculate the mean squared error and r2 score."
      ]
    },
    {
      "cell_type": "code",
      "execution_count": null,
      "metadata": {
        "colab": {
          "base_uri": "https://localhost:8080/"
        },
        "id": "QqGNMROAWZgm",
        "outputId": "d6653a0e-9110-451c-d333-e841e5c9bdeb"
      },
      "outputs": [
        {
          "name": "stdout",
          "output_type": "stream",
          "text": [
            "CPU times: user 1.62 s, sys: 190 ms, total: 1.81 s\n",
            "Wall time: 1.4 s\n"
          ]
        }
      ],
      "source": [
        "%%time\n",
        "X_test = X_test.compute()\n",
        "y_pred = lr.predict(X_test.values)"
      ]
    },
    {
      "cell_type": "code",
      "execution_count": null,
      "metadata": {
        "colab": {
          "base_uri": "https://localhost:8080/"
        },
        "id": "XdRoc9cv2E2-",
        "outputId": "36141bfc-cec1-4d87-ae15-8d458e4bbfd4"
      },
      "outputs": [
        {
          "data": {
            "text/plain": [
              "array([19.00381576,  6.43512157,  7.05163524, ..., 11.28973319,\n",
              "       11.10232171, 13.76304815])"
            ]
          },
          "execution_count": 64,
          "metadata": {},
          "output_type": "execute_result"
        }
      ],
      "source": [
        "y_pred"
      ]
    },
    {
      "cell_type": "code",
      "execution_count": null,
      "metadata": {
        "id": "wHDebnxC1LCG"
      },
      "outputs": [],
      "source": [
        "y_test = y_test.to_dask_array(lengths=True)\n"
      ]
    },
    {
      "cell_type": "code",
      "execution_count": null,
      "metadata": {
        "id": "8-iLrP4h2uDC"
      },
      "outputs": [],
      "source": [
        "y_test = y_test.reshape(-1)"
      ]
    },
    {
      "cell_type": "code",
      "execution_count": null,
      "metadata": {
        "colab": {
          "base_uri": "https://localhost:8080/"
        },
        "id": "E4ImLCty2-xP",
        "outputId": "5121fa2b-8093-476c-88c2-5662ef7fa47f"
      },
      "outputs": [
        {
          "data": {
            "text/plain": [
              "array([16.9,  5.7,  5.3, ..., 10.5, 10.9, 12.9])"
            ]
          },
          "execution_count": 67,
          "metadata": {},
          "output_type": "execute_result"
        }
      ],
      "source": [
        "y_test.compute()"
      ]
    },
    {
      "cell_type": "code",
      "execution_count": null,
      "metadata": {
        "colab": {
          "base_uri": "https://localhost:8080/"
        },
        "id": "2_FetEGcW8_M",
        "outputId": "79b9926d-bd77-45f3-c431-7138c5315ba4"
      },
      "outputs": [
        {
          "name": "stdout",
          "output_type": "stream",
          "text": [
            "CPU times: user 1.47 s, sys: 74.2 ms, total: 1.55 s\n",
            "Wall time: 1.16 s\n"
          ]
        },
        {
          "data": {
            "text/plain": [
              "20.58352710235977"
            ]
          },
          "execution_count": 68,
          "metadata": {},
          "output_type": "execute_result"
        }
      ],
      "source": [
        "# Mean squared error\n",
        "%%time\n",
        "mean_squared_error(y_test, y_pred)"
      ]
    },
    {
      "cell_type": "code",
      "execution_count": null,
      "metadata": {
        "colab": {
          "base_uri": "https://localhost:8080/"
        },
        "id": "RDEKGa5Q3Xla",
        "outputId": "d7b42b35-21e5-4714-e722-de941a4c985e"
      },
      "outputs": [
        {
          "name": "stdout",
          "output_type": "stream",
          "text": [
            "CPU times: user 1.5 s, sys: 95.7 ms, total: 1.6 s\n",
            "Wall time: 1.25 s\n"
          ]
        },
        {
          "data": {
            "text/plain": [
              "0.7460908308122315"
            ]
          },
          "execution_count": 69,
          "metadata": {},
          "output_type": "execute_result"
        }
      ],
      "source": [
        "# R2_Score\n",
        "%%time\n",
        "r2_score(y_test, y_pred)"
      ]
    }
  ],
  "metadata": {
    "colab": {
      "provenance": [],
      "toc_visible": true
    },
    "kernelspec": {
      "display_name": "Python 3",
      "language": "python",
      "name": "python3"
    },
    "language_info": {
      "codemirror_mode": {
        "name": "ipython",
        "version": 3
      },
      "file_extension": ".py",
      "mimetype": "text/x-python",
      "name": "python",
      "nbconvert_exporter": "python",
      "pygments_lexer": "ipython3",
      "version": "3.8.5"
    }
  },
  "nbformat": 4,
  "nbformat_minor": 0
}
